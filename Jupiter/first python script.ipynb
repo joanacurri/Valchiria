{
 "cells": [
  {
   "cell_type": "code",
   "execution_count": 2,
   "metadata": {},
   "outputs": [
    {
     "name": "stdout",
     "output_type": "stream",
     "text": [
      "Collecting unimorph\n",
      "  Downloading https://files.pythonhosted.org/packages/3c/2a/653f5cb0449b04019052f0f86fb9cdd89b55fa8b7e173ef91122641679ac/unimorph-0.0.4-py3-none-any.whl\n",
      "Collecting pandas (from unimorph)\n",
      "\u001b[?25l  Downloading https://files.pythonhosted.org/packages/f0/8e/876fbd98f712dcda93c7b6826f5ca06b3d7b1aff343e9b0b2460c463c591/pandas-1.1.2-cp38-cp38-macosx_10_9_x86_64.whl (10.6MB)\n",
      "\u001b[K     |████████████████████████████████| 10.6MB 1.7MB/s eta 0:00:01\n",
      "\u001b[?25hCollecting numpy>=1.15.4 (from pandas->unimorph)\n",
      "\u001b[?25l  Downloading https://files.pythonhosted.org/packages/2f/c0/09c526b4167ed4dd3bcb6d6aa2103b4b50899e8eae89acde6455d43a37e4/numpy-1.19.1-cp38-cp38-macosx_10_9_x86_64.whl (15.3MB)\n",
      "\u001b[K     |████████████████████████████████| 15.3MB 219kB/s eta 0:00:01\n",
      "\u001b[?25hCollecting python-dateutil>=2.7.3 (from pandas->unimorph)\n",
      "\u001b[?25l  Downloading https://files.pythonhosted.org/packages/d4/70/d60450c3dd48ef87586924207ae8907090de0b306af2bce5d134d78615cb/python_dateutil-2.8.1-py2.py3-none-any.whl (227kB)\n",
      "\u001b[K     |████████████████████████████████| 235kB 10.8MB/s eta 0:00:01\n",
      "\u001b[?25hCollecting pytz>=2017.2 (from pandas->unimorph)\n",
      "\u001b[?25l  Downloading https://files.pythonhosted.org/packages/4f/a4/879454d49688e2fad93e59d7d4efda580b783c745fd2ec2a3adf87b0808d/pytz-2020.1-py2.py3-none-any.whl (510kB)\n",
      "\u001b[K     |████████████████████████████████| 512kB 8.3MB/s eta 0:00:01\n",
      "\u001b[?25hCollecting six>=1.5 (from python-dateutil>=2.7.3->pandas->unimorph)\n",
      "  Downloading https://files.pythonhosted.org/packages/ee/ff/48bde5c0f013094d729fe4b0316ba2a24774b3ff1c52d924a8a4cb04078a/six-1.15.0-py2.py3-none-any.whl\n",
      "Installing collected packages: numpy, six, python-dateutil, pytz, pandas, unimorph\n",
      "Successfully installed numpy-1.19.1 pandas-1.1.2 python-dateutil-2.8.1 pytz-2020.1 six-1.15.0 unimorph-0.0.4\n",
      "\u001b[33mWARNING: You are using pip version 19.2.3, however version 20.2.3 is available.\n",
      "You should consider upgrading via the 'pip install --upgrade pip' command.\u001b[0m\n"
     ]
    }
   ],
   "source": [
    "# FIRST PYTHON SCRIPT #\n",
    "!pip3 install unimorph"
   ]
  },
  {
   "cell_type": "code",
   "execution_count": null,
   "metadata": {},
   "outputs": [],
   "source": []
  }
 ],
 "metadata": {
  "kernelspec": {
   "display_name": "Python 3",
   "language": "python",
   "name": "python3"
  },
  "language_info": {
   "codemirror_mode": {
    "name": "ipython",
    "version": 3
   },
   "file_extension": ".py",
   "mimetype": "text/x-python",
   "name": "python",
   "nbconvert_exporter": "python",
   "pygments_lexer": "ipython3",
   "version": "3.7.7"
  }
 },
 "nbformat": 4,
 "nbformat_minor": 4
}
